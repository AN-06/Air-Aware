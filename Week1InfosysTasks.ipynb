{
  "nbformat": 4,
  "nbformat_minor": 0,
  "metadata": {
    "colab": {
      "provenance": [],
      "toc_visible": true,
      "include_colab_link": true
    },
    "kernelspec": {
      "name": "python3",
      "display_name": "Python 3"
    },
    "language_info": {
      "name": "python"
    }
  },
  "cells": [
    {
      "cell_type": "markdown",
      "metadata": {
        "id": "view-in-github",
        "colab_type": "text"
      },
      "source": [
        "<a href=\"https://colab.research.google.com/github/AN-06/Air-Aware/blob/main/Week1InfosysTasks.ipynb\" target=\"_parent\"><img src=\"https://colab.research.google.com/assets/colab-badge.svg\" alt=\"Open In Colab\"/></a>"
      ]
    },
    {
      "cell_type": "markdown",
      "source": [
        "# Day 2 Tasks"
      ],
      "metadata": {
        "id": "zuX8pVLJ6vS2"
      }
    },
    {
      "cell_type": "code",
      "source": [
        "#string\n",
        "s=\"Hello World\"\n",
        "s1=\"Hi\"\n",
        "print(s)\n",
        "print(s[6:])\n",
        "print(s[::-1])\n",
        "print(s+\" \"+s1)\n",
        "print(s*3)"
      ],
      "metadata": {
        "colab": {
          "base_uri": "https://localhost:8080/"
        },
        "id": "A7V9otei2eVY",
        "outputId": "df51a014-0a67-40d1-8c23-9e54a1e06f03"
      },
      "execution_count": null,
      "outputs": [
        {
          "output_type": "stream",
          "name": "stdout",
          "text": [
            "Hello World\n",
            "World\n",
            "dlroW olleH\n",
            "Hello World Hi\n",
            "Hello WorldHello WorldHello World\n"
          ]
        }
      ]
    },
    {
      "cell_type": "code",
      "source": [
        "# Data types\n",
        "age = 21\n",
        "height = 5.9\n",
        "pi = 3.14159\n",
        "grade = 'A'\n",
        "is_student = True\n",
        "name = \"Aleena\"\n",
        "\n",
        "print(\"Name:\", name)\n",
        "print(\"Age:\", age)\n",
        "print(\"Height:\", height)\n",
        "print(\"PI value:\", pi)\n",
        "print(\"Grade:\", grade)\n",
        "print(\"Is Student:\", is_student)\n"
      ],
      "metadata": {
        "colab": {
          "base_uri": "https://localhost:8080/"
        },
        "id": "D-vu6bmZ_BlM",
        "outputId": "d0693cd4-c773-49be-dec1-506262be302b"
      },
      "execution_count": null,
      "outputs": [
        {
          "output_type": "stream",
          "name": "stdout",
          "text": [
            "Name: Aleena\n",
            "Age: 21\n",
            "Height: 5.9\n",
            "PI value: 3.14159\n",
            "Grade: A\n",
            "Is Student: True\n"
          ]
        }
      ]
    },
    {
      "cell_type": "code",
      "source": [
        "#Arithmetic Operators\n",
        "a=10\n",
        "b=5\n",
        "c=7\n",
        "print(a+b)\n",
        "print(a-b)\n",
        "print(a*b)\n",
        "print(a/b)\n",
        "print(a%b)\n",
        "print(a//b)\n",
        "print(a**b)"
      ],
      "metadata": {
        "colab": {
          "base_uri": "https://localhost:8080/"
        },
        "id": "ITGOzjHi8H7Y",
        "outputId": "8a614721-be76-4570-9a4c-23dfdbd2935d"
      },
      "execution_count": null,
      "outputs": [
        {
          "output_type": "stream",
          "name": "stdout",
          "text": [
            "15\n",
            "5\n",
            "50\n",
            "2.0\n",
            "0\n",
            "2\n",
            "100000\n"
          ]
        }
      ]
    },
    {
      "cell_type": "markdown",
      "source": [
        "# Day 3 Tasks\n"
      ],
      "metadata": {
        "id": "OFAefy7lLBGk"
      }
    },
    {
      "cell_type": "code",
      "source": [
        "#Task 1-Inputs\n",
        "\n",
        "name = input(\"Enter your name (str): \")\n",
        "age = int(input(\"Enter your age (int): \"))\n",
        "height = float(input(\"Enter your height in cm (float): \"))\n",
        "is_student = to_bool(input(\"Are you a student? (y/n): \"))\n",
        "comp = complex(input(\"Enter a complex number (e.g., 3+4j): \"))\n",
        "\n",
        "\n",
        "\n",
        "# 1) Comma\n",
        "print(\"\\n[1] Comma:\", name, age, height, is_student, comp)\n",
        "\n",
        "# 2) Plus (+) concatenation\n",
        "print(\"[2] Plus: \" + \"Name=\" + name + \", Age=\" + str(age) + \", Height=\" + str(height))\n",
        "\n",
        "# 3) Percent (%) formatting\n",
        "print(\"[3] Percent: Name=%s | Age=%d | Height=%.1f | Student=%s | Complex=%s\"\n",
        "      % (name, age, height, is_student, comp))\n",
        "\n",
        "# 4) str.format()\n",
        "print(\"[4] format(): Name={} | Age={} | Height={} | Student={} | Complex={}\"\n",
        "      .format(name, age, height, is_student, comp))\n",
        "\n",
        "# 5) f-string\n",
        "print(f\"[5] f-string: Name={name} | Age={age} | Height={height} | Student={is_student} | Complex={comp}\")\n"
      ],
      "metadata": {
        "id": "iv-EjJD-LF41",
        "colab": {
          "base_uri": "https://localhost:8080/"
        },
        "outputId": "628f512f-8595-48ed-d723-a204d83069cf"
      },
      "execution_count": null,
      "outputs": [
        {
          "output_type": "stream",
          "name": "stdout",
          "text": [
            "Enter your name (str): Aleena\n",
            "Enter your age (int): 21\n",
            "Enter your height in cm (float): 162\n",
            "Are you a student? (y/n): y\n",
            "Enter a complex number (e.g., 3+4j): 5+8j\n",
            "\n",
            "[1] Comma: Aleena 21 162.0 True (5+8j)\n",
            "[2] Plus: Name=Aleena, Age=21, Height=162.0\n",
            "[3] Percent: Name=Aleena | Age=21 | Height=162.0 | Student=True | Complex=(5+8j)\n",
            "[4] format(): Name=Aleena | Age=21 | Height=162.0 | Student=True | Complex=(5+8j)\n",
            "[5] f-string: Name=Aleena | Age=21 | Height=162.0 | Student=True | Complex=(5+8j)\n"
          ]
        }
      ]
    },
    {
      "cell_type": "code",
      "source": [
        "#Task 2 - List Operations\n",
        "\n",
        "L = [3, 1, 2, 3]\n",
        "print(\"Original List:\", L)\n",
        "\n",
        "# append\n",
        "L1 = L.copy()\n",
        "L1.append(9)\n",
        "print(\"Append 9:\", L1)\n",
        "\n",
        "# extend\n",
        "L2 = L.copy()\n",
        "L2.extend([7, 8])\n",
        "print(\"Extend [7,8]:\", L2)\n",
        "\n",
        "# insert\n",
        "L3 = L.copy()\n",
        "L3.insert(1, 99)\n",
        "print(\"Insert 99 at index 1:\", L3)\n",
        "\n",
        "# remove (first occurrence)\n",
        "L4 = L.copy()\n",
        "L4.remove(3)\n",
        "print(\"Remove first 3:\", L4)\n",
        "\n",
        "# pop (last element)\n",
        "L5 = L.copy()\n",
        "L5.pop()\n",
        "print(\"Pop last element:\", L5)\n",
        "\n",
        "# reverse (in place)\n",
        "L6 = L.copy()\n",
        "L6.reverse()\n",
        "print(\"Reverse:\", L6)\n",
        "\n",
        "# sorted (new list)\n",
        "print(\"Sorted (new list):\", sorted(L))\n",
        "\n",
        "# sort (in place)\n",
        "L7 = L.copy()\n",
        "L7.sort(reverse=True)\n",
        "print(\"Sort descending (in place):\", L7)\n",
        "\n",
        "# remove duplicates (preserve order)\n",
        "L8 = L.copy()\n",
        "unique = []\n",
        "for x in L8:\n",
        "    if x not in unique:\n",
        "        unique.append(x)\n",
        "print(\"Remove duplicates:\", unique)\n",
        "\n",
        "# slicing\n",
        "print(\"Slice 1:4:\", L[1:4])\n"
      ],
      "metadata": {
        "id": "2J4Yz5jSLIQf",
        "colab": {
          "base_uri": "https://localhost:8080/"
        },
        "outputId": "6dd85b82-3c7c-44ca-889c-a32dc731b9e7"
      },
      "execution_count": null,
      "outputs": [
        {
          "output_type": "stream",
          "name": "stdout",
          "text": [
            "Original List: [3, 1, 2, 3]\n",
            "Append 9: [3, 1, 2, 3, 9]\n",
            "Extend [7,8]: [3, 1, 2, 3, 7, 8]\n",
            "Insert 99 at index 1: [3, 99, 1, 2, 3]\n",
            "Remove first 3: [1, 2, 3]\n",
            "Pop last element: [3, 1, 2]\n",
            "Reverse: [3, 2, 1, 3]\n",
            "Sorted (new list): [1, 2, 3, 3]\n",
            "Sort descending (in place): [3, 3, 2, 1]\n",
            "Remove duplicates: [3, 1, 2]\n",
            "Slice 1:4: [1, 2, 3]\n"
          ]
        }
      ]
    },
    {
      "cell_type": "code",
      "source": [
        "#Task 3 - Dictionary\n",
        "\n",
        "pairs = [(\"x\", 10), (\"y\", 20)]\n",
        "d = dict(pairs)\n",
        "print(\"Create from pairs:\", d)\n",
        "\n",
        "# length\n",
        "print(\"Length:\", len(d))\n",
        "\n",
        "# keys\n",
        "print(\"Keys:\", list(d.keys()))\n",
        "\n",
        "# values\n",
        "print(\"Values:\", list(d.values()))\n",
        "\n",
        "# items\n",
        "print(\"Items:\", list(d.items()))\n",
        "\n",
        "# get\n",
        "print(\"Get 'z' with default:\", d.get(\"z\", -1))\n",
        "\n",
        "# setdefault\n",
        "print(\"Setdefault 'z':\", d.setdefault(\"z\", 0))\n",
        "print(\"After setdefault:\", d)\n",
        "\n",
        "# update\n",
        "d.update({\"y\": 99, \"new\": 123})\n",
        "print(\"After update:\", d)\n",
        "\n",
        "# pop (removes a key)\n",
        "print(\"Pop 'x':\", d.pop(\"x\"))\n",
        "print(\"After pop:\", d)\n",
        "\n",
        "# popitem (removes last inserted item)\n",
        "print(\"Popitem:\", d.popitem())\n",
        "print(\"After popitem:\", d)\n",
        "\n",
        "# fromkeys\n",
        "new_d = dict.fromkeys([\"k1\", \"k2\"], 5)\n",
        "print(\"Fromkeys:\", new_d)\n",
        "\n",
        "# copy\n",
        "copy_d = d.copy()\n",
        "print(\"Copy of d:\", copy_d)\n",
        "\n",
        "# clear\n",
        "d.clear()\n",
        "print(\"After clear:\", d)\n"
      ],
      "metadata": {
        "id": "dgwDjZ2fLLH6",
        "colab": {
          "base_uri": "https://localhost:8080/"
        },
        "outputId": "647d7d16-56c2-4787-8db1-2431a4c7e84f"
      },
      "execution_count": null,
      "outputs": [
        {
          "output_type": "stream",
          "name": "stdout",
          "text": [
            "Create from pairs: {'x': 10, 'y': 20}\n",
            "Length: 2\n",
            "Keys: ['x', 'y']\n",
            "Values: [10, 20]\n",
            "Items: [('x', 10), ('y', 20)]\n",
            "Get 'z' with default: -1\n",
            "Setdefault 'z': 0\n",
            "After setdefault: {'x': 10, 'y': 20, 'z': 0}\n",
            "After update: {'x': 10, 'y': 99, 'z': 0, 'new': 123}\n",
            "Pop 'x': 10\n",
            "After pop: {'y': 99, 'z': 0, 'new': 123}\n",
            "Popitem: ('new', 123)\n",
            "After popitem: {'y': 99, 'z': 0}\n",
            "Fromkeys: {'k1': 5, 'k2': 5}\n",
            "Copy of d: {'y': 99, 'z': 0}\n",
            "After clear: {}\n"
          ]
        }
      ]
    },
    {
      "cell_type": "code",
      "source": [
        "#Task 4 - set modifications\n",
        "\n",
        "S = {1, 2, 3}\n",
        "print(\"Original Set:\", S)\n",
        "\n",
        "# add\n",
        "S1 = S.copy()\n",
        "S1.add(9)\n",
        "print(\"After add(9):\", S1)\n",
        "\n",
        "# update\n",
        "S2 = S.copy()\n",
        "S2.update([3, 4, 5])\n",
        "print(\"After update([3, 4, 5]):\", S2)\n",
        "\n",
        "# remove\n",
        "S3 = S.copy()\n",
        "S3.remove(2)\n",
        "print(\"After remove(2):\", S3)\n",
        "\n",
        "# discard\n",
        "S4 = S.copy()\n",
        "S4.discard(10)\n",
        "print(\"After discard(10):\", S4)\n",
        "\n",
        "# pop\n",
        "S5 = S.copy()\n",
        "popped = S5.pop()\n",
        "print(\"After pop():\", S5, \"| Popped element:\", popped)\n",
        "\n",
        "# clear\n",
        "S6 = S.copy()\n",
        "S6.clear()\n",
        "print(\"After clear():\", S6)\n"
      ],
      "metadata": {
        "id": "SntWVl2JM7sX",
        "colab": {
          "base_uri": "https://localhost:8080/"
        },
        "outputId": "846d7a86-2b9f-4a1b-ed48-2cede0a889e7"
      },
      "execution_count": null,
      "outputs": [
        {
          "output_type": "stream",
          "name": "stdout",
          "text": [
            "Original Set: {1, 2, 3}\n",
            "After add(9): {1, 2, 3, 9}\n",
            "After update([3, 4, 5]): {1, 2, 3, 4, 5}\n",
            "After remove(2): {1, 3}\n",
            "After discard(10): {1, 2, 3}\n",
            "After pop(): {2, 3} | Popped element: 1\n",
            "After clear(): set()\n"
          ]
        }
      ]
    },
    {
      "cell_type": "code",
      "source": [
        "# Task 5- set operations\n",
        "\n",
        "A = {1, 2, 3}\n",
        "B = {3, 4, 5}\n",
        "print(\"Set A:\", A)\n",
        "print(\"Set B:\", B)\n",
        "\n",
        "# union\n",
        "print(\"Union:\", A | B)\n",
        "\n",
        "# intersection\n",
        "print(\"Intersection:\", A & B)\n",
        "\n",
        "# difference\n",
        "print(\"Difference A - B:\", A - B)\n",
        "print(\"Difference B - A:\", B - A)\n",
        "\n",
        "# symmetric difference\n",
        "print(\"Symmetric Difference:\", A ^ B)\n",
        "\n",
        "# subset / superset\n",
        "print(\"A is subset of B:\", A <= B)\n",
        "print(\"A is proper subset of B:\", A < B)\n",
        "print(\"A is superset of B:\", A >= B)\n",
        "print(\"A is proper superset of B:\", A > B)\n",
        "\n",
        "# disjoint\n",
        "print(\"A and B are disjoint?:\", A.isdisjoint(B))\n",
        "print(\"A and {7,8} are disjoint?:\", A.isdisjoint({7, 8}))\n"
      ],
      "metadata": {
        "id": "NxkaTWZZNX-F",
        "colab": {
          "base_uri": "https://localhost:8080/"
        },
        "outputId": "51c3466e-c164-4f1b-f161-20cebb1aee76"
      },
      "execution_count": null,
      "outputs": [
        {
          "output_type": "stream",
          "name": "stdout",
          "text": [
            "Set A: {1, 2, 3}\n",
            "Set B: {3, 4, 5}\n",
            "Union: {1, 2, 3, 4, 5}\n",
            "Intersection: {3}\n",
            "Difference A - B: {1, 2}\n",
            "Difference B - A: {4, 5}\n",
            "Symmetric Difference: {1, 2, 4, 5}\n",
            "A is subset of B: False\n",
            "A is proper subset of B: False\n",
            "A is superset of B: False\n",
            "A is proper superset of B: False\n",
            "A and B are disjoint?: False\n",
            "A and {7,8} are disjoint?: True\n"
          ]
        }
      ]
    },
    {
      "cell_type": "markdown",
      "source": [
        "# Day 4 Tasks"
      ],
      "metadata": {
        "id": "ZDiGLDgesOEg"
      }
    },
    {
      "cell_type": "code",
      "source": [
        "#task 1 - Write code for calculator with all 7 operators + - * / % // ** using if elif else\n",
        "a = float(input(\"Enter first number: \"))\n",
        "op = input(\"Enter operator (+, -, *, /, %, //, **): \")\n",
        "b = float(input(\"Enter second number: \"))\n",
        "\n",
        "if op == '+':\n",
        "    print(\"Result:\", a + b)\n",
        "elif op == '-':\n",
        "    print(\"Result:\", a - b)\n",
        "elif op == '*':\n",
        "    print(\"Result:\", a * b)\n",
        "elif op == '/':\n",
        "    print(\"Result:\", a / b)\n",
        "elif op == '%':\n",
        "    print(\"Result:\", a % b)\n",
        "elif op == '//':\n",
        "    print(\"Result:\", a // b)\n",
        "elif op == '**':\n",
        "    print(\"Result:\", a ** b)\n",
        "else:\n",
        "    print(\"Invalid operator\")\n"
      ],
      "metadata": {
        "colab": {
          "base_uri": "https://localhost:8080/"
        },
        "id": "8d4CBn42sclf",
        "outputId": "565d796e-a134-4463-b5ea-fa8eff369eca"
      },
      "execution_count": null,
      "outputs": [
        {
          "output_type": "stream",
          "name": "stdout",
          "text": [
            "Enter first number: 5\n",
            "Enter operator (+, -, *, /, %, //, **): //\n",
            "Enter second number: 2\n",
            "Result: 2.0\n"
          ]
        }
      ]
    },
    {
      "cell_type": "code",
      "source": [
        "#task 2 - for loop using tuple , dictionary , set\n",
        "\n",
        "# Tuple\n",
        "t = (\"apple\", \"banana\", \"cherry\")\n",
        "for item in t:\n",
        "    print(item)\n",
        "\n",
        "# Dictionary\n",
        "d = {\"name\": \"Aleena\", \"age\": 21, \"city\": \"Lucknow\"}\n",
        "for key in d:\n",
        "    print(key, d[key])\n",
        "\n",
        "# Set\n",
        "s = {1, 2, 3, 2}\n",
        "for val in s:\n",
        "    print(val)\n"
      ],
      "metadata": {
        "colab": {
          "base_uri": "https://localhost:8080/"
        },
        "id": "B1x7CT7Ksswh",
        "outputId": "ffd6035a-d91c-457c-b925-12b9f64d3080"
      },
      "execution_count": null,
      "outputs": [
        {
          "output_type": "stream",
          "name": "stdout",
          "text": [
            "apple\n",
            "banana\n",
            "cherry\n",
            "name Aleena\n",
            "age 21\n",
            "city Lucknow\n",
            "1\n",
            "2\n",
            "3\n"
          ]
        }
      ]
    },
    {
      "cell_type": "code",
      "source": [
        "#task 3 - design calculator using structural pattern matching\n",
        "\n",
        "a = float(input(\"Enter first number: \"))\n",
        "op = input(\"Enter operator (+, -, *, /, %, //, **): \")\n",
        "b = float(input(\"Enter second number: \"))\n",
        "\n",
        "match op:\n",
        "    case '+':\n",
        "        print(\"Result:\", a + b)\n",
        "    case '-':\n",
        "        print(\"Result:\", a - b)\n",
        "    case '*':\n",
        "        print(\"Result:\", a * b)\n",
        "    case '/':\n",
        "        print(\"Result:\", a / b)\n",
        "    case '%':\n",
        "        print(\"Result:\", a % b)\n",
        "    case '//':\n",
        "        print(\"Result:\", a // b)\n",
        "    case '**':\n",
        "        print(\"Result:\", a ** b)\n",
        "    case _:\n",
        "        print(\"Invalid operator\")\n"
      ],
      "metadata": {
        "colab": {
          "base_uri": "https://localhost:8080/"
        },
        "id": "hYsL5Q4Ys21D",
        "outputId": "644a7cee-8cc0-4793-c1d5-33c66894ae6d"
      },
      "execution_count": null,
      "outputs": [
        {
          "output_type": "stream",
          "name": "stdout",
          "text": [
            "Enter first number: 5\n",
            "Enter operator (+, -, *, /, %, //, **): **\n",
            "Enter second number: 2\n",
            "Result: 25.0\n"
          ]
        }
      ]
    },
    {
      "cell_type": "code",
      "source": [
        "#task 4 - all file concept commands\n",
        "# Write\n",
        "f = open(\"demo.txt\", \"w\")\n",
        "f.write(\"Hello\\n\")\n",
        "f.write(\"World\\n\")\n",
        "f.close()\n",
        "\n",
        "# Append\n",
        "f = open(\"demo.txt\", \"a\")\n",
        "f.write(\"New line added\\n\")\n",
        "f.close()\n",
        "\n",
        "# Read whole file\n",
        "f = open(\"demo.txt\", \"r\")\n",
        "print(f.read())\n",
        "f.close()\n",
        "\n",
        "# Read line by line\n",
        "f = open(\"demo.txt\", \"r\")\n",
        "for line in f:\n",
        "    print(line.strip())\n",
        "f.close()\n",
        "\n",
        "# Read lines into list\n",
        "f = open(\"demo.txt\", \"r\")\n",
        "lines = f.readlines()\n",
        "print(lines)\n",
        "f.close()\n"
      ],
      "metadata": {
        "colab": {
          "base_uri": "https://localhost:8080/"
        },
        "id": "SSuKYaaat01G",
        "outputId": "c0e35f22-5c19-4d41-c7d1-231443b208c6"
      },
      "execution_count": null,
      "outputs": [
        {
          "output_type": "stream",
          "name": "stdout",
          "text": [
            "Hello\n",
            "World\n",
            "New line added\n",
            "\n",
            "Hello\n",
            "World\n",
            "New line added\n",
            "['Hello\\n', 'World\\n', 'New line added\\n']\n"
          ]
        }
      ]
    },
    {
      "cell_type": "markdown",
      "source": [
        "# Day 5 Tasks"
      ],
      "metadata": {
        "id": "79NTed3xuGDg"
      }
    },
    {
      "cell_type": "code",
      "source": [
        "#task 1- do fibonacci and factorial using recursive\n",
        "# fibonacci\n",
        "def fib(n):\n",
        "    if n <= 1:\n",
        "        return n\n",
        "    return fib(n-1) + fib(n-2)\n",
        "\n",
        "# factorial\n",
        "def fact(n):\n",
        "    if n == 0 or n == 1:\n",
        "        return 1\n",
        "    return n * fact(n-1)\n",
        "\n",
        "\n",
        "n = int(input(\"Enter n: \"))\n",
        "print(\"fib(n):\", fib(n))\n",
        "print(\"fact(n):\", fact(n))"
      ],
      "metadata": {
        "colab": {
          "base_uri": "https://localhost:8080/"
        },
        "id": "i7hNz37-uKll",
        "outputId": "e183d003-c2cf-4217-bfb4-7d5c0fbf8375"
      },
      "execution_count": null,
      "outputs": [
        {
          "output_type": "stream",
          "name": "stdout",
          "text": [
            "Enter n: 8\n",
            "fib(n): 21\n",
            "fact(n): 40320\n"
          ]
        }
      ]
    },
    {
      "cell_type": "code",
      "source": [
        "#task 2- write example code for module OS, MATH, RANDOM\n",
        "import os\n",
        "import math\n",
        "import random\n",
        "\n",
        "# --- os module ---\n",
        "print(\"CWD:\", os.getcwd())\n",
        "print(\"Files here:\", os.listdir(\".\"))\n",
        "\n",
        "# --- math module ---\n",
        "x = 5.7\n",
        "print(\"sqrt(16):\", math.sqrt(16))\n",
        "print(\"floor(5.7):\", math.floor(x))\n",
        "print(\"ceil(5.7):\", math.ceil(x))\n",
        "print(\"pi:\", math.pi)\n",
        "\n",
        "# --- random module ---\n",
        "print(\"randint 1..10:\", random.randint(1, 10))\n",
        "print(\"random():\", random.random())\n",
        "items = [\"apple\", \"banana\", \"cherry\"]\n",
        "print(\"choice:\", random.choice(items))\n",
        "random.shuffle(items)\n",
        "print(\"shuffled:\", items)"
      ],
      "metadata": {
        "colab": {
          "base_uri": "https://localhost:8080/"
        },
        "id": "m233achTwFkX",
        "outputId": "172add3c-c1e9-46f0-e9d4-217bab431c62"
      },
      "execution_count": null,
      "outputs": [
        {
          "output_type": "stream",
          "name": "stdout",
          "text": [
            "CWD: /content\n",
            "Files here: ['.config', 'sample_data']\n",
            "sqrt(16): 4.0\n",
            "floor(5.7): 5\n",
            "ceil(5.7): 6\n",
            "pi: 3.141592653589793\n",
            "randint 1..10: 2\n",
            "random(): 0.48011340441486383\n",
            "choice: cherry\n",
            "shuffled: ['cherry', 'apple', 'banana']\n"
          ]
        }
      ]
    },
    {
      "cell_type": "code",
      "source": [
        "#task 3- list, tuple & dictionary comprehensions\n",
        "# List comprehension\n",
        "nums = [1, 2, 3, 4, 5]\n",
        "squares = [n*n for n in nums]\n",
        "evens   = [n for n in nums if n % 2 == 0]\n",
        "print(\"squares:\", squares)\n",
        "print(\"evens:\", evens)\n",
        "\n",
        "# Tuple comprehension\n",
        "cubes_tuple = tuple(n**3 for n in nums)\n",
        "print(\"cubes_tuple:\", cubes_tuple)\n",
        "\n",
        "# Dict comprehension\n",
        "names = [\"alice\", \"bob\", \"cara\"]\n",
        "name_len = {name: len(name) for name in names}\n",
        "print(\"name_len:\", name_len)"
      ],
      "metadata": {
        "colab": {
          "base_uri": "https://localhost:8080/"
        },
        "id": "1PTDkRPRwN_2",
        "outputId": "2d3ef70c-7ce5-49d5-ffa6-59b40b8b9fb2"
      },
      "execution_count": null,
      "outputs": [
        {
          "output_type": "stream",
          "name": "stdout",
          "text": [
            "squares: [1, 4, 9, 16, 25]\n",
            "evens: [2, 4]\n",
            "cubes_tuple: (1, 8, 27, 64, 125)\n",
            "name_len: {'alice': 5, 'bob': 3, 'cara': 4}\n"
          ]
        }
      ]
    },
    {
      "cell_type": "code",
      "source": [
        "#task 4 - runtime arguments args kwargs\n",
        "# *args\n",
        "def add_all(*args):\n",
        "    total = 0\n",
        "    for x in args:\n",
        "        total += x\n",
        "    return total\n",
        "\n",
        "print(\"add_all:\", add_all(1, 2, 3, 4))\n",
        "\n",
        "# **kwargs\n",
        "def greet(**kwargs):\n",
        "    first = kwargs.get(\"first\", \"\")\n",
        "    last  = kwargs.get(\"last\", \"\")\n",
        "    city  = kwargs.get(\"city\", \"\")\n",
        "    print(\"Hello\", first, last, \"from\", city)\n",
        "\n",
        "greet(first=\"Aleena\", last=\"K\", city=\"Lko\")\n",
        "\n",
        "# mixing: normal, *args, **kwargs\n",
        "def demo(a, b=0, *args, **kwargs):\n",
        "    print(\"a:\", a, \"b:\", b)\n",
        "    print(\"args:\", args)\n",
        "    print(\"kwargs:\", kwargs)\n",
        "\n",
        "demo(10, 20, 30, 40, x=1, y=2)\n"
      ],
      "metadata": {
        "colab": {
          "base_uri": "https://localhost:8080/"
        },
        "id": "iS5YlXfMwW15",
        "outputId": "36dc7694-abb2-4e82-de50-dd4b80683b0f"
      },
      "execution_count": null,
      "outputs": [
        {
          "output_type": "stream",
          "name": "stdout",
          "text": [
            "add_all: 10\n",
            "Hello Aleena K from Kochi\n",
            "a: 10 b: 20\n",
            "args: (30, 40)\n",
            "kwargs: {'x': 1, 'y': 2}\n"
          ]
        }
      ]
    }
  ]
}